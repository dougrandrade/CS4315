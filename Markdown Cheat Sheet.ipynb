{
 "cells": [
  {
   "cell_type": "markdown",
   "id": "88d889b1",
   "metadata": {},
   "source": [
    "# Horizontal Line Breaks\n",
    "___\n",
    "There are make with \" *** \" or \" --- \" or \" ___ \"\n",
    "***\n",
    "# Headers:\n",
    "---\n",
    "\n",
    "# Header 1\n",
    "## Header 2\n",
    "### Header 3\n",
    "#### Header 4\n",
    "##### Header 5"
   ]
  },
  {
   "cell_type": "markdown",
   "id": "f0491bc6",
   "metadata": {},
   "source": [
    "# Text Formatting\n",
    "---\n",
    "\n",
    "**Bold**\n",
    "\n",
    "*Italic*\n",
    "\n",
    "***Bold & Italic**\n",
    "\n",
    "~~Strikethought~~\n",
    "\n",
    "\\# Use of the \"\\\\\" backslash to prevent Markdown from interpretting a character as a Markdown instruction."
   ]
  },
  {
   "cell_type": "markdown",
   "id": "7b964ca3",
   "metadata": {},
   "source": [
    "# Sentence and Paragraph Structure\n",
    "---\n",
    "\n",
    "With no epmpty line space between two sentences? \n",
    "You get a continuous line without a break.\n",
    "\n",
    "There is one empty line space between this sentence and the prior sentence.\n",
    "\n",
    "> Nested block quoting\n",
    ">> looks like this,\n",
    ">>> by simply add one more carrot \">\"\n",
    ">>>> to each line"
   ]
  },
  {
   "cell_type": "markdown",
   "id": "e963f571",
   "metadata": {},
   "source": [
    "# Ordered Lists\n",
    "---\n",
    "1. Numbered\n",
    "2. and\n",
    "    - and unordered\n",
    "    - sublists\n",
    "3. Ordered\n",
    "4. Lists\n",
    " - [ ] unchecked\n",
    " - [x] and checked tasks"
   ]
  },
  {
   "cell_type": "markdown",
   "id": "87552a4d",
   "metadata": {},
   "source": [
    "# Code Blocks\n",
    "---\n",
    "Here's an example of code in Markdown:\n",
    "`m_df = pd.read_csv('my_df.csv')`"
   ]
  },
  {
   "cell_type": "markdown",
   "id": "3ebb62f5",
   "metadata": {},
   "source": [
    "# Tables\n",
    "---\n",
    "|Col A|Col B|Col cC\n",
    "|-----|-----|-----|\n",
    "|1    |Yes  | 6.4 |\n",
    "|2    |No  |NaN |"
   ]
  },
  {
   "cell_type": "markdown",
   "id": "d11058a6",
   "metadata": {},
   "source": [
    "$Leaky \\ ReLU \\ (x) = \\begin{cases} 0.2x & x < 0 \\\\ x & x \\ge 0\\end{cases}$"
   ]
  }
 ],
 "metadata": {
  "kernelspec": {
   "display_name": "Python 3 (ipykernel)",
   "language": "python",
   "name": "python3"
  },
  "language_info": {
   "codemirror_mode": {
    "name": "ipython",
    "version": 3
   },
   "file_extension": ".py",
   "mimetype": "text/x-python",
   "name": "python",
   "nbconvert_exporter": "python",
   "pygments_lexer": "ipython3",
   "version": "3.11.5"
  }
 },
 "nbformat": 4,
 "nbformat_minor": 5
}
