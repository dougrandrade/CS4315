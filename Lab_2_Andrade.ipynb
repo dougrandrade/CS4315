{
 "cells": [
  {
   "cell_type": "markdown",
   "id": "cdf801bb",
   "metadata": {},
   "source": [
    "24 January 2024\n",
    "# <center>Lab 2 Assignment - CS 4315</center>\n",
    "<center>Doug Andrade</center>"
   ]
  },
  {
   "cell_type": "markdown",
   "id": "8a1004d3",
   "metadata": {},
   "source": [
    "#### 1. A function that takes the variables $a$, $b$, and $c$ as input and returns $a * b + c$, with $c$ having a default value of $0$."
   ]
  },
  {
   "cell_type": "code",
   "execution_count": 1,
   "id": "af971c90",
   "metadata": {},
   "outputs": [],
   "source": [
    "# function that takes in three values, one of which is set with a default of 0\n",
    "def func(a, b, c = 0):\n",
    "    # return the result of an arthimetic operation of the 3 (or 2) inputted values\n",
    "    return a * b + c"
   ]
  },
  {
   "cell_type": "markdown",
   "id": "1dfd4fda",
   "metadata": {},
   "source": [
    "#### 2. Write a text file named `laws.txt` that contains the following four lines:\n",
    "\n",
    "     Isaac Asimov's Three Laws of Robotics\n",
    "\n",
    "     1. A robot may not injure a human being or, through inaction, allow a human being to come to harm.\n",
    "\n",
    "     2. A robot must obey orders given it by human beings except where such orders would conflict with the First Law.\n",
    "\n",
    "     3. A robot must protect its own existence as long as such protection does not conflict with the First or Second Law."
   ]
  },
  {
   "cell_type": "code",
   "execution_count": 2,
   "id": "fc9f02da",
   "metadata": {},
   "outputs": [],
   "source": [
    "# create an object for the 'laws.txt' file to avoid hard coding\n",
    "txt_name = 'laws.txt'\n",
    "\n",
    "# Open (create) the 'laws.txt' file by setting the open function to 'write' mode\n",
    "laws_file = open(txt_name, mode = 'w')\n",
    "\n",
    "# Write each line of text to the 'laws.txt' file\n",
    "laws_file.write(\"Isaac Asimov's Three Laws of Robotics\\n\")\n",
    "laws_file.write(\"1. A robot may not injure a human being or, through inaction, allow a human being to come to harm.\\n\")\n",
    "laws_file.write(\"2. A robot must obey orders given it by human beings except where such orders would conflict with the First Law.\\n\")\n",
    "laws_file.write(\"3. A robot must protect its own existence as long as such protection does not conflict with the First or Second Law.\\n\")\n",
    "\n",
    "# Close the 'laws.txt' file to avoid unintended changes to the file, or losing/corrupting the file\n",
    "laws_file.close()"
   ]
  },
  {
   "cell_type": "markdown",
   "id": "180660b2",
   "metadata": {},
   "source": [
    "#### 3. Opening `laws.txt` and printing every odd line."
   ]
  },
  {
   "cell_type": "code",
   "execution_count": 3,
   "id": "fb534070",
   "metadata": {},
   "outputs": [
    {
     "name": "stdout",
     "output_type": "stream",
     "text": [
      "1. A robot may not injure a human being or, through inaction, allow a human being to come to harm.\n",
      "3. A robot must protect its own existence as long as such protection does not conflict with the First or Second Law.\n"
     ]
    }
   ],
   "source": [
    "# Open the previously created 'laws.txt' file by setting the 'open()' function to 'read' mode\n",
    "laws_file = open(txt_name, mode = 'r')\n",
    "\n",
    "# for loop to read (enumerate) each line of the txt, starting at the 0 (even) index\n",
    "for line_number, line in enumerate(laws_file, start = 0):\n",
    "    # Print the line if the enumerated text's line is odd (not divisible by 2)\n",
    "    if line_number % 2 != 0:\n",
    "        # .strip() removes the default white space between each line printed\n",
    "        print(line.strip())\n",
    "\n",
    "# Close the 'laws.txt' file to avoid unintended changes to the file, or losing/corrupting the file\n",
    "laws_file.close()"
   ]
  },
  {
   "cell_type": "markdown",
   "id": "83bffc38",
   "metadata": {},
   "source": [
    "#### 4. Write a CSV file named `forwards_and_backwards.csv` that contains the following four rows of data:\n",
    "|    |    |    |    |    |\n",
    "|----|----|----|----|----|\n",
    "|1   |2   |3   |4   |5   |\n",
    "|5   |4   |3   |2   |1   |\n",
    "|6   |7   |8   |9   |10  |\n",
    "|10  |9   |8   |7   |6   |"
   ]
  },
  {
   "cell_type": "code",
   "execution_count": 4,
   "id": "6db80690",
   "metadata": {},
   "outputs": [],
   "source": [
    "# Create a list-of-lists object with the specified values\n",
    "tbl = [\n",
    "    [1, 2, 3, 4, 5],\n",
    "    [5, 4, 3, 2, 1],\n",
    "    [6, 7, 8, 9, 10],\n",
    "    [10, 9, 8, 7, 6]\n",
    "]"
   ]
  },
  {
   "cell_type": "code",
   "execution_count": 5,
   "id": "5fc7b183",
   "metadata": {},
   "outputs": [],
   "source": [
    "# import the comma separated value (csv) module to perform operation on csv files\n",
    "import csv\n",
    "\n",
    "# create an object for the 'forwards_and_backwards.csv' file to avoid hard coding\n",
    "csv_file = 'forwards_and_backwards.csv'\n",
    "\n",
    "# Open (create) the 'forward_and_backwards.csv' file by setting the open() function to 'write' mode\n",
    "# newline = '' is added as common practice to override the default control character logic adds additional space between lines\n",
    "# when reading csv file in Python enviroment\n",
    "csv_tbl = open(file = csv_file, mode = 'w', newline = '')\n",
    "\n",
    "# A writer object to convert an object into a delimited set of strings to the 'forwards_and_backwards.csv' file\n",
    "tbl_writer = csv.writer(csv_tbl, delimiter = ',')\n",
    "\n",
    "# Write the tbl list-of-lists object to the 'forwards_and_backwards.csv' file\n",
    "tbl_writer.writerows(tbl)\n",
    "\n",
    "# Close the 'forwards_and_backwards.csv' file to avoid unintended changes to the file, or losing/corrupting the file\n",
    "csv_tbl.close()"
   ]
  },
  {
   "cell_type": "markdown",
   "id": "9af69e88",
   "metadata": {},
   "source": [
    "#### 5. Open `forwards_and_backwards.csv` and printing the third number in the third row."
   ]
  },
  {
   "cell_type": "code",
   "execution_count": 6,
   "id": "052f619c",
   "metadata": {},
   "outputs": [
    {
     "name": "stdout",
     "output_type": "stream",
     "text": [
      "['1', '2', '3', '4', '5']\n",
      "['5', '4', '3', '2', '1']\n",
      "['6', '7', '8', '9', '10']\n",
      "['10', '9', '8', '7', '6']\n"
     ]
    }
   ],
   "source": [
    "# Open the 'forward_and_backwards.csv' file by setting the open() function to 'read' mode\n",
    "with open(file = csv_file, mode = 'r', newline = '') as csv_tbl:\n",
    "    \n",
    "    # Reader object to iterate through each row of the 'forwards_and_backwards.csv' file \n",
    "    reader = csv.reader(csv_tbl)\n",
    "    \n",
    "    # Convert the reader object to a list for visualization\n",
    "    my_csv = list(reader)\n",
    "    \n",
    "    # Iterate through each row of the 'forwards_and_backwards.csv' file and print it on a new line\n",
    "    for line in my_csv:\n",
    "        print(line)\n",
    "\n",
    "# Close the 'forwards_and_backwards.csv' file to avoid unintended changes to the file, or losing/corrupting the file\n",
    "csv_tbl.close()"
   ]
  },
  {
   "cell_type": "code",
   "execution_count": 8,
   "id": "97139801",
   "metadata": {},
   "outputs": [
    {
     "name": "stdout",
     "output_type": "stream",
     "text": [
      "The 3rd element in the 3rd row is \"8\".\n"
     ]
    }
   ],
   "source": [
    "# Apply string formatting to print the specific index value from the my_csv list-of-lists object\n",
    "print('The 3rd element in the 3rd row is \"%s\".' % my_csv[2][2])"
   ]
  }
 ],
 "metadata": {
  "kernelspec": {
   "display_name": "Python 3 (ipykernel)",
   "language": "python",
   "name": "python3"
  },
  "language_info": {
   "codemirror_mode": {
    "name": "ipython",
    "version": 3
   },
   "file_extension": ".py",
   "mimetype": "text/x-python",
   "name": "python",
   "nbconvert_exporter": "python",
   "pygments_lexer": "ipython3",
   "version": "3.11.5"
  }
 },
 "nbformat": 4,
 "nbformat_minor": 5
}
