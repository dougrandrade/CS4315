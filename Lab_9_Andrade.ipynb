{
 "cells": [
  {
   "cell_type": "markdown",
   "id": "09cde8e8",
   "metadata": {},
   "source": [
    "13 March 2024\n",
    "# <center>Lab 9 Assignment - CS 4315<center>\n",
    "<center>Doug Andrade</center>"
   ]
  },
  {
   "cell_type": "markdown",
   "id": "8bbbe79b",
   "metadata": {},
   "source": [
    "#### 1. Load the SMS file into a pandas dataframe."
   ]
  },
  {
   "cell_type": "code",
   "execution_count": 1,
   "id": "54b5db6b",
   "metadata": {},
   "outputs": [],
   "source": [
    "#Import Python modules\n",
    "import numpy as np\n",
    "import pandas as pd\n",
    "\n",
    "from sklearn.model_selection import train_test_split\n",
    "\n",
    "# Import CountVectorizer for conversion of text to a token count matrix\n",
    "from sklearn.feature_extraction.text import CountVectorizer\n",
    "# Import word_tokenize for dividing strings to list of substrings\n",
    "from nltk import word_tokenize\n",
    "# Import WordNetLemmatizer for reducing words to base form\n",
    "from nltk.stem import WordNetLemmatizer \n",
    "# Import search() to search for specific regular expressions\n",
    "from re import search\n",
    "\n",
    "from sklearn.naive_bayes import MultinomialNB\n",
    "from sklearn.naive_bayes import GaussianNB\n",
    "from sklearn.metrics import classification_report"
   ]
  },
  {
   "cell_type": "code",
   "execution_count": 2,
   "id": "788780e0",
   "metadata": {},
   "outputs": [
    {
     "data": {
      "text/html": [
       "<div>\n",
       "<style scoped>\n",
       "    .dataframe tbody tr th:only-of-type {\n",
       "        vertical-align: middle;\n",
       "    }\n",
       "\n",
       "    .dataframe tbody tr th {\n",
       "        vertical-align: top;\n",
       "    }\n",
       "\n",
       "    .dataframe thead th {\n",
       "        text-align: right;\n",
       "    }\n",
       "</style>\n",
       "<table border=\"1\" class=\"dataframe\">\n",
       "  <thead>\n",
       "    <tr style=\"text-align: right;\">\n",
       "      <th></th>\n",
       "      <th>Label</th>\n",
       "      <th>SMS</th>\n",
       "    </tr>\n",
       "  </thead>\n",
       "  <tbody>\n",
       "    <tr>\n",
       "      <th>0</th>\n",
       "      <td>ham</td>\n",
       "      <td>Go until jurong point, crazy.. Available only ...</td>\n",
       "    </tr>\n",
       "    <tr>\n",
       "      <th>1</th>\n",
       "      <td>ham</td>\n",
       "      <td>Ok lar... Joking wif u oni...</td>\n",
       "    </tr>\n",
       "    <tr>\n",
       "      <th>2</th>\n",
       "      <td>spam</td>\n",
       "      <td>Free entry in 2 a wkly comp to win FA Cup fina...</td>\n",
       "    </tr>\n",
       "  </tbody>\n",
       "</table>\n",
       "</div>"
      ],
      "text/plain": [
       "  Label                                                SMS\n",
       "0   ham  Go until jurong point, crazy.. Available only ...\n",
       "1   ham                      Ok lar... Joking wif u oni...\n",
       "2  spam  Free entry in 2 a wkly comp to win FA Cup fina..."
      ]
     },
     "execution_count": 2,
     "metadata": {},
     "output_type": "execute_result"
    }
   ],
   "source": [
    "# Read-in the csv file as a Pandas data frame\n",
    "spam_df = pd.read_csv(filepath_or_buffer = 'SMSSpamCollection.csv', \n",
    "                      sep = '\\t',\n",
    "                      header = 0)\n",
    "\n",
    "spam_df.head(3)"
   ]
  },
  {
   "cell_type": "code",
   "execution_count": 3,
   "id": "c0c2ec49",
   "metadata": {},
   "outputs": [
    {
     "data": {
      "text/html": [
       "<div>\n",
       "<style scoped>\n",
       "    .dataframe tbody tr th:only-of-type {\n",
       "        vertical-align: middle;\n",
       "    }\n",
       "\n",
       "    .dataframe tbody tr th {\n",
       "        vertical-align: top;\n",
       "    }\n",
       "\n",
       "    .dataframe thead th {\n",
       "        text-align: right;\n",
       "    }\n",
       "</style>\n",
       "<table border=\"1\" class=\"dataframe\">\n",
       "  <thead>\n",
       "    <tr style=\"text-align: right;\">\n",
       "      <th></th>\n",
       "      <th>Label</th>\n",
       "      <th>SMS</th>\n",
       "    </tr>\n",
       "  </thead>\n",
       "  <tbody>\n",
       "    <tr>\n",
       "      <th>0</th>\n",
       "      <td>0</td>\n",
       "      <td>Go until jurong point, crazy.. Available only ...</td>\n",
       "    </tr>\n",
       "    <tr>\n",
       "      <th>1</th>\n",
       "      <td>0</td>\n",
       "      <td>Ok lar... Joking wif u oni...</td>\n",
       "    </tr>\n",
       "    <tr>\n",
       "      <th>2</th>\n",
       "      <td>1</td>\n",
       "      <td>Free entry in 2 a wkly comp to win FA Cup fina...</td>\n",
       "    </tr>\n",
       "  </tbody>\n",
       "</table>\n",
       "</div>"
      ],
      "text/plain": [
       "   Label                                                SMS\n",
       "0      0  Go until jurong point, crazy.. Available only ...\n",
       "1      0                      Ok lar... Joking wif u oni...\n",
       "2      1  Free entry in 2 a wkly comp to win FA Cup fina..."
      ]
     },
     "execution_count": 3,
     "metadata": {},
     "output_type": "execute_result"
    }
   ],
   "source": [
    "# Create a target binary labeled dataframe (1 = spam)\n",
    "spam_binary = spam_df.copy()\n",
    "spam_binary['Label'] = spam_binary['Label'].replace(to_replace = {'ham': 0, 'spam': 1})\n",
    "\n",
    "spam_binary.head(3)"
   ]
  },
  {
   "cell_type": "markdown",
   "id": "59ce2773",
   "metadata": {},
   "source": [
    "#### 3. Using lemmatization to create count vectors for the train and test SMS messages"
   ]
  },
  {
   "cell_type": "code",
   "execution_count": 4,
   "id": "8eb138c0",
   "metadata": {},
   "outputs": [
    {
     "name": "stdout",
     "output_type": "stream",
     "text": [
      "Note: I elected to count vector using lemmatization prior to splitting into training/test set because I found that if I did this step afterward there would be a mis-match of total keys. This would prevent predicting on the test set since the prediction test input set size would not match the training set input size used to fit the model.\n"
     ]
    }
   ],
   "source": [
    "print('Note: I elected to count vector using lemmatization prior to splitting into training/test set because I found that if I did this step afterward there would be a mis-match of total keys. This would prevent predicting on the test set since the prediction test input set size would not match the training set input size used to fit the model.')"
   ]
  },
  {
   "cell_type": "code",
   "execution_count": 5,
   "id": "eeb6e2b9",
   "metadata": {},
   "outputs": [],
   "source": [
    "# Create a custom tokenizer with lemmatization\n",
    "class LemmaTokenizer:\n",
    "    def __init__(self):\n",
    "        # Initialize the word reduction function\n",
    "        self.wnl = WordNetLemmatizer()\n",
    "    def __call__(self, doc):\n",
    "        # Regular expressions filter for numeric characters and short words\n",
    "        regex_num_punctuation = '(\\d+)|([^\\w\\s])'\n",
    "        regex_little_words = r'(\\b\\w{1,2}\\b)'\n",
    "        # Tokenize and lemmatize tokens not in the regular expression filter\n",
    "        return [self.wnl.lemmatize(t) for t in word_tokenize(doc)\n",
    "                if not search(pattern = regex_num_punctuation, string = t) and not \n",
    "                search(pattern = regex_little_words, string = t)]"
   ]
  },
  {
   "cell_type": "code",
   "execution_count": 6,
   "id": "f8e9ce93",
   "metadata": {},
   "outputs": [
    {
     "name": "stderr",
     "output_type": "stream",
     "text": [
      "/home/drandrade/anaconda3/lib/python3.11/site-packages/sklearn/feature_extraction/text.py:525: UserWarning: The parameter 'token_pattern' will not be used since 'tokenizer' is not None'\n",
      "  warnings.warn(\n"
     ]
    },
    {
     "data": {
      "text/html": [
       "<div>\n",
       "<style scoped>\n",
       "    .dataframe tbody tr th:only-of-type {\n",
       "        vertical-align: middle;\n",
       "    }\n",
       "\n",
       "    .dataframe tbody tr th {\n",
       "        vertical-align: top;\n",
       "    }\n",
       "\n",
       "    .dataframe thead th {\n",
       "        text-align: right;\n",
       "    }\n",
       "</style>\n",
       "<table border=\"1\" class=\"dataframe\">\n",
       "  <thead>\n",
       "    <tr style=\"text-align: right;\">\n",
       "      <th></th>\n",
       "      <th>Label</th>\n",
       "      <th>____</th>\n",
       "      <th>aah</th>\n",
       "      <th>aaniye</th>\n",
       "      <th>aaooooright</th>\n",
       "      <th>aathi</th>\n",
       "      <th>abbey</th>\n",
       "      <th>abdomen</th>\n",
       "      <th>abeg</th>\n",
       "      <th>abel</th>\n",
       "      <th>...</th>\n",
       "      <th>zed</th>\n",
       "      <th>zero</th>\n",
       "      <th>zhong</th>\n",
       "      <th>zindgi</th>\n",
       "      <th>zoe</th>\n",
       "      <th>zogtorius</th>\n",
       "      <th>zoom</th>\n",
       "      <th>zouk</th>\n",
       "      <th>zyada</th>\n",
       "      <th>〨ud</th>\n",
       "    </tr>\n",
       "  </thead>\n",
       "  <tbody>\n",
       "    <tr>\n",
       "      <th>0</th>\n",
       "      <td>0</td>\n",
       "      <td>0</td>\n",
       "      <td>0</td>\n",
       "      <td>0</td>\n",
       "      <td>0</td>\n",
       "      <td>0</td>\n",
       "      <td>0</td>\n",
       "      <td>0</td>\n",
       "      <td>0</td>\n",
       "      <td>0</td>\n",
       "      <td>...</td>\n",
       "      <td>0</td>\n",
       "      <td>0</td>\n",
       "      <td>0</td>\n",
       "      <td>0</td>\n",
       "      <td>0</td>\n",
       "      <td>0</td>\n",
       "      <td>0</td>\n",
       "      <td>0</td>\n",
       "      <td>0</td>\n",
       "      <td>0</td>\n",
       "    </tr>\n",
       "    <tr>\n",
       "      <th>1</th>\n",
       "      <td>0</td>\n",
       "      <td>0</td>\n",
       "      <td>0</td>\n",
       "      <td>0</td>\n",
       "      <td>0</td>\n",
       "      <td>0</td>\n",
       "      <td>0</td>\n",
       "      <td>0</td>\n",
       "      <td>0</td>\n",
       "      <td>0</td>\n",
       "      <td>...</td>\n",
       "      <td>0</td>\n",
       "      <td>0</td>\n",
       "      <td>0</td>\n",
       "      <td>0</td>\n",
       "      <td>0</td>\n",
       "      <td>0</td>\n",
       "      <td>0</td>\n",
       "      <td>0</td>\n",
       "      <td>0</td>\n",
       "      <td>0</td>\n",
       "    </tr>\n",
       "    <tr>\n",
       "      <th>2</th>\n",
       "      <td>1</td>\n",
       "      <td>0</td>\n",
       "      <td>0</td>\n",
       "      <td>0</td>\n",
       "      <td>0</td>\n",
       "      <td>0</td>\n",
       "      <td>0</td>\n",
       "      <td>0</td>\n",
       "      <td>0</td>\n",
       "      <td>0</td>\n",
       "      <td>...</td>\n",
       "      <td>0</td>\n",
       "      <td>0</td>\n",
       "      <td>0</td>\n",
       "      <td>0</td>\n",
       "      <td>0</td>\n",
       "      <td>0</td>\n",
       "      <td>0</td>\n",
       "      <td>0</td>\n",
       "      <td>0</td>\n",
       "      <td>0</td>\n",
       "    </tr>\n",
       "    <tr>\n",
       "      <th>3</th>\n",
       "      <td>0</td>\n",
       "      <td>0</td>\n",
       "      <td>0</td>\n",
       "      <td>0</td>\n",
       "      <td>0</td>\n",
       "      <td>0</td>\n",
       "      <td>0</td>\n",
       "      <td>0</td>\n",
       "      <td>0</td>\n",
       "      <td>0</td>\n",
       "      <td>...</td>\n",
       "      <td>0</td>\n",
       "      <td>0</td>\n",
       "      <td>0</td>\n",
       "      <td>0</td>\n",
       "      <td>0</td>\n",
       "      <td>0</td>\n",
       "      <td>0</td>\n",
       "      <td>0</td>\n",
       "      <td>0</td>\n",
       "      <td>0</td>\n",
       "    </tr>\n",
       "    <tr>\n",
       "      <th>4</th>\n",
       "      <td>0</td>\n",
       "      <td>0</td>\n",
       "      <td>0</td>\n",
       "      <td>0</td>\n",
       "      <td>0</td>\n",
       "      <td>0</td>\n",
       "      <td>0</td>\n",
       "      <td>0</td>\n",
       "      <td>0</td>\n",
       "      <td>0</td>\n",
       "      <td>...</td>\n",
       "      <td>0</td>\n",
       "      <td>0</td>\n",
       "      <td>0</td>\n",
       "      <td>0</td>\n",
       "      <td>0</td>\n",
       "      <td>0</td>\n",
       "      <td>0</td>\n",
       "      <td>0</td>\n",
       "      <td>0</td>\n",
       "      <td>0</td>\n",
       "    </tr>\n",
       "  </tbody>\n",
       "</table>\n",
       "<p>5 rows × 6624 columns</p>\n",
       "</div>"
      ],
      "text/plain": [
       "   Label  ____  aah  aaniye  aaooooright  aathi  abbey  abdomen  abeg  abel  \\\n",
       "0      0     0    0       0            0      0      0        0     0     0   \n",
       "1      0     0    0       0            0      0      0        0     0     0   \n",
       "2      1     0    0       0            0      0      0        0     0     0   \n",
       "3      0     0    0       0            0      0      0        0     0     0   \n",
       "4      0     0    0       0            0      0      0        0     0     0   \n",
       "\n",
       "   ...  zed  zero  zhong  zindgi  zoe  zogtorius  zoom  zouk  zyada  〨ud  \n",
       "0  ...    0     0      0       0    0          0     0     0      0    0  \n",
       "1  ...    0     0      0       0    0          0     0     0      0    0  \n",
       "2  ...    0     0      0       0    0          0     0     0      0    0  \n",
       "3  ...    0     0      0       0    0          0     0     0      0    0  \n",
       "4  ...    0     0      0       0    0          0     0     0      0    0  \n",
       "\n",
       "[5 rows x 6624 columns]"
      ]
     },
     "execution_count": 6,
     "metadata": {},
     "output_type": "execute_result"
    }
   ],
   "source": [
    "# Initialize the text to token matrix function with lemmatization\n",
    "text2vec_lemma = CountVectorizer(tokenizer = LemmaTokenizer(),\n",
    "                                 stop_words = ['english', 'ha', 'le', 'wa'],\n",
    "                                 lowercase = True)\n",
    "\n",
    "# Apply the text vectorizer and lemmatization to the data frame's \"SMS\" column\n",
    "text2vec_lemma.fit(spam_binary['SMS'])\n",
    "\n",
    "# Get key (word) form the .vocabulary_ dictionary of key-value pairs\n",
    "keys = list(text2vec_lemma.vocabulary_.keys())\n",
    "# Sort the list of the keys alphabetically\n",
    "keys.sort()\n",
    "\n",
    "# Transforms the fitted count matrix to vector of total count of each token\n",
    "vecs_lemma_train = text2vec_lemma.transform(spam_binary['SMS'])\n",
    "\n",
    "# Create a new DataFrame with count vectors and concatenate it with spam_df\n",
    "vecs_train = pd.DataFrame(vecs_lemma_train.toarray(),\n",
    "                          columns = keys)\n",
    "\n",
    "# Combine the new tokenized vector data frame with the original\n",
    "spam_binary = pd.concat([spam_binary, vecs_train],\n",
    "                        axis = 1)\n",
    "\n",
    "spam_binary.drop(labels = ['SMS'], axis = 1, inplace = True)\n",
    "\n",
    "spam_binary.head()"
   ]
  },
  {
   "cell_type": "markdown",
   "id": "f314d3c9",
   "metadata": {},
   "source": [
    "#### 2. Split the SMS data using a 90/10 training/test split."
   ]
  },
  {
   "cell_type": "code",
   "execution_count": 7,
   "id": "171e8307",
   "metadata": {},
   "outputs": [
    {
     "name": "stdout",
     "output_type": "stream",
     "text": [
      "The training set shape is: (5014, 6624) \n",
      "The test set shape is: (558, 6624)\n"
     ]
    }
   ],
   "source": [
    "spam_train, spam_test = train_test_split(spam_binary,\n",
    "                                         train_size = 0.9,\n",
    "                                         random_state = 42)\n",
    "\n",
    "print('The training set shape is: %s \\nThe test set shape is: %s' % (str(spam_train.shape), str(spam_test.shape)))"
   ]
  },
  {
   "cell_type": "markdown",
   "id": "84e99e91",
   "metadata": {},
   "source": [
    "#### 4. Fit a SPAM Multinomial Naïve Bayes classification model using the train data."
   ]
  },
  {
   "cell_type": "code",
   "execution_count": 8,
   "id": "b30c8cbf",
   "metadata": {},
   "outputs": [
    {
     "data": {
      "text/html": [
       "<style>#sk-container-id-1 {color: black;}#sk-container-id-1 pre{padding: 0;}#sk-container-id-1 div.sk-toggleable {background-color: white;}#sk-container-id-1 label.sk-toggleable__label {cursor: pointer;display: block;width: 100%;margin-bottom: 0;padding: 0.3em;box-sizing: border-box;text-align: center;}#sk-container-id-1 label.sk-toggleable__label-arrow:before {content: \"▸\";float: left;margin-right: 0.25em;color: #696969;}#sk-container-id-1 label.sk-toggleable__label-arrow:hover:before {color: black;}#sk-container-id-1 div.sk-estimator:hover label.sk-toggleable__label-arrow:before {color: black;}#sk-container-id-1 div.sk-toggleable__content {max-height: 0;max-width: 0;overflow: hidden;text-align: left;background-color: #f0f8ff;}#sk-container-id-1 div.sk-toggleable__content pre {margin: 0.2em;color: black;border-radius: 0.25em;background-color: #f0f8ff;}#sk-container-id-1 input.sk-toggleable__control:checked~div.sk-toggleable__content {max-height: 200px;max-width: 100%;overflow: auto;}#sk-container-id-1 input.sk-toggleable__control:checked~label.sk-toggleable__label-arrow:before {content: \"▾\";}#sk-container-id-1 div.sk-estimator input.sk-toggleable__control:checked~label.sk-toggleable__label {background-color: #d4ebff;}#sk-container-id-1 div.sk-label input.sk-toggleable__control:checked~label.sk-toggleable__label {background-color: #d4ebff;}#sk-container-id-1 input.sk-hidden--visually {border: 0;clip: rect(1px 1px 1px 1px);clip: rect(1px, 1px, 1px, 1px);height: 1px;margin: -1px;overflow: hidden;padding: 0;position: absolute;width: 1px;}#sk-container-id-1 div.sk-estimator {font-family: monospace;background-color: #f0f8ff;border: 1px dotted black;border-radius: 0.25em;box-sizing: border-box;margin-bottom: 0.5em;}#sk-container-id-1 div.sk-estimator:hover {background-color: #d4ebff;}#sk-container-id-1 div.sk-parallel-item::after {content: \"\";width: 100%;border-bottom: 1px solid gray;flex-grow: 1;}#sk-container-id-1 div.sk-label:hover label.sk-toggleable__label {background-color: #d4ebff;}#sk-container-id-1 div.sk-serial::before {content: \"\";position: absolute;border-left: 1px solid gray;box-sizing: border-box;top: 0;bottom: 0;left: 50%;z-index: 0;}#sk-container-id-1 div.sk-serial {display: flex;flex-direction: column;align-items: center;background-color: white;padding-right: 0.2em;padding-left: 0.2em;position: relative;}#sk-container-id-1 div.sk-item {position: relative;z-index: 1;}#sk-container-id-1 div.sk-parallel {display: flex;align-items: stretch;justify-content: center;background-color: white;position: relative;}#sk-container-id-1 div.sk-item::before, #sk-container-id-1 div.sk-parallel-item::before {content: \"\";position: absolute;border-left: 1px solid gray;box-sizing: border-box;top: 0;bottom: 0;left: 50%;z-index: -1;}#sk-container-id-1 div.sk-parallel-item {display: flex;flex-direction: column;z-index: 1;position: relative;background-color: white;}#sk-container-id-1 div.sk-parallel-item:first-child::after {align-self: flex-end;width: 50%;}#sk-container-id-1 div.sk-parallel-item:last-child::after {align-self: flex-start;width: 50%;}#sk-container-id-1 div.sk-parallel-item:only-child::after {width: 0;}#sk-container-id-1 div.sk-dashed-wrapped {border: 1px dashed gray;margin: 0 0.4em 0.5em 0.4em;box-sizing: border-box;padding-bottom: 0.4em;background-color: white;}#sk-container-id-1 div.sk-label label {font-family: monospace;font-weight: bold;display: inline-block;line-height: 1.2em;}#sk-container-id-1 div.sk-label-container {text-align: center;}#sk-container-id-1 div.sk-container {/* jupyter's `normalize.less` sets `[hidden] { display: none; }` but bootstrap.min.css set `[hidden] { display: none !important; }` so we also need the `!important` here to be able to override the default hidden behavior on the sphinx rendered scikit-learn.org. See: https://github.com/scikit-learn/scikit-learn/issues/21755 */display: inline-block !important;position: relative;}#sk-container-id-1 div.sk-text-repr-fallback {display: none;}</style><div id=\"sk-container-id-1\" class=\"sk-top-container\"><div class=\"sk-text-repr-fallback\"><pre>MultinomialNB()</pre><b>In a Jupyter environment, please rerun this cell to show the HTML representation or trust the notebook. <br />On GitHub, the HTML representation is unable to render, please try loading this page with nbviewer.org.</b></div><div class=\"sk-container\" hidden><div class=\"sk-item\"><div class=\"sk-estimator sk-toggleable\"><input class=\"sk-toggleable__control sk-hidden--visually\" id=\"sk-estimator-id-1\" type=\"checkbox\" checked><label for=\"sk-estimator-id-1\" class=\"sk-toggleable__label sk-toggleable__label-arrow\">MultinomialNB</label><div class=\"sk-toggleable__content\"><pre>MultinomialNB()</pre></div></div></div></div></div>"
      ],
      "text/plain": [
       "MultinomialNB()"
      ]
     },
     "execution_count": 8,
     "metadata": {},
     "output_type": "execute_result"
    }
   ],
   "source": [
    "mnb = MultinomialNB()\n",
    "mnb.fit(spam_train[spam_train.columns[1:]],\n",
    "        spam_train[spam_train.columns[0]])"
   ]
  },
  {
   "cell_type": "markdown",
   "id": "b10abc4f",
   "metadata": {},
   "source": [
    "#### 5. Predict SPAM or not using the test SMS data."
   ]
  },
  {
   "cell_type": "code",
   "execution_count": 9,
   "id": "5b5be3f1",
   "metadata": {},
   "outputs": [
    {
     "data": {
      "text/plain": [
       "array([0, 0, 0, 0, 0, 0, 0, 0, 0, 0, 0, 0, 0, 0, 1, 0, 0, 0, 0, 0, 0, 0,\n",
       "       0, 0, 1, 1, 0, 0, 0, 0, 0, 0, 0, 0, 0, 0, 0, 0, 0, 0, 1, 0, 0, 0,\n",
       "       0, 0, 0, 0, 0, 0, 0, 1, 0, 0, 0, 0, 0, 0, 0, 0, 1, 0, 1, 0, 0, 0,\n",
       "       0, 0, 0, 0, 1, 0, 1, 1, 1, 1, 0, 0, 0, 0, 0, 0, 0, 0, 0, 0, 0, 0,\n",
       "       0, 0, 0, 0, 0, 0, 0, 0, 0, 1, 0, 0, 0, 0, 0, 0, 0, 0, 0, 0, 0, 0,\n",
       "       0, 0, 0, 0, 0, 1, 1, 0, 0, 1, 0, 0, 0, 0, 0, 0, 0, 0, 0, 1, 0, 0,\n",
       "       0, 0, 0, 0, 0, 0, 0, 0, 0, 0, 0, 0, 0, 0, 1, 0, 0, 0, 0, 0, 0, 0,\n",
       "       0, 0, 0, 0, 0, 0, 0, 0, 0, 0, 0, 0, 1, 1, 0, 0, 0, 0, 0, 0, 0, 0,\n",
       "       0, 0, 0, 0, 0, 0, 0, 0, 0, 0, 0, 0, 0, 0, 0, 0, 0, 0, 0, 0, 0, 0,\n",
       "       0, 0, 0, 0, 0, 0, 0, 0, 0, 0, 1, 0, 0, 1, 0, 0, 0, 0, 0, 0, 0, 0,\n",
       "       0, 1, 0, 0, 0, 0, 0, 0, 0, 0, 0, 0, 0, 0, 0, 0, 1, 0, 1, 0, 1, 1,\n",
       "       0, 1, 0, 0, 0, 0, 0, 0, 0, 1, 0, 0, 0, 0, 0, 0, 0, 1, 0, 0, 0, 0,\n",
       "       0, 0, 0, 0, 0, 0, 0, 0, 0, 1, 0, 0, 0, 0, 0, 0, 1, 0, 0, 0, 0, 0,\n",
       "       0, 1, 0, 0, 0, 1, 1, 0, 0, 0, 0, 1, 0, 1, 0, 0, 0, 0, 0, 0, 0, 1,\n",
       "       0, 0, 0, 0, 0, 0, 1, 0, 0, 0, 0, 0, 0, 0, 0, 0, 1, 0, 1, 0, 0, 0,\n",
       "       0, 1, 0, 0, 0, 0, 0, 1, 1, 0, 0, 0, 0, 0, 1, 0, 0, 0, 0, 0, 0, 0,\n",
       "       0, 0, 0, 0, 0, 1, 0, 1, 1, 0, 0, 0, 0, 0, 0, 0, 0, 0, 0, 0, 0, 0,\n",
       "       0, 0, 0, 0, 0, 0, 0, 0, 0, 0, 0, 0, 0, 0, 0, 0, 0, 0, 0, 1, 0, 1,\n",
       "       0, 0, 0, 0, 0, 0, 0, 0, 0, 1, 0, 0, 1, 0, 0, 0, 0, 0, 1, 0, 0, 0,\n",
       "       0, 0, 0, 0, 1, 0, 0, 0, 1, 0, 0, 1, 0, 0, 0, 0, 0, 0, 1, 0, 0, 0,\n",
       "       1, 0, 0, 0, 1, 0, 0, 0, 0, 0, 0, 1, 0, 0, 1, 0, 0, 0, 0, 0, 0, 1,\n",
       "       0, 0, 0, 0, 0, 0, 0, 0, 1, 0, 0, 0, 0, 0, 0, 0, 0, 0, 0, 1, 0, 0,\n",
       "       0, 0, 0, 0, 0, 1, 0, 0, 0, 0, 1, 0, 0, 1, 0, 0, 0, 0, 0, 0, 0, 0,\n",
       "       0, 0, 0, 0, 0, 0, 0, 0, 0, 0, 0, 0, 1, 1, 0, 0, 0, 0, 0, 0, 0, 0,\n",
       "       0, 0, 0, 0, 0, 0, 0, 0, 0, 0, 0, 1, 0, 1, 0, 1, 1, 1, 0, 0, 0, 0,\n",
       "       1, 1, 1, 0, 0, 0, 0, 0])"
      ]
     },
     "execution_count": 9,
     "metadata": {},
     "output_type": "execute_result"
    }
   ],
   "source": [
    "mnb_preds = mnb.predict(spam_test[spam_test.columns[1:]])\n",
    "mnb_preds"
   ]
  },
  {
   "cell_type": "markdown",
   "id": "14e456ea",
   "metadata": {},
   "source": [
    "#### 6. Create a classification report for the test SPAM predictions."
   ]
  },
  {
   "cell_type": "code",
   "execution_count": 10,
   "id": "0b2a32a1",
   "metadata": {},
   "outputs": [
    {
     "name": "stdout",
     "output_type": "stream",
     "text": [
      "              precision    recall  f1-score   support\n",
      "\n",
      "           0       0.99      0.98      0.98       485\n",
      "           1       0.86      0.90      0.88        73\n",
      "\n",
      "    accuracy                           0.97       558\n",
      "   macro avg       0.92      0.94      0.93       558\n",
      "weighted avg       0.97      0.97      0.97       558\n",
      "\n"
     ]
    }
   ],
   "source": [
    "print(classification_report(spam_test[spam_test.columns[0]].to_numpy(), \n",
    "                            mnb_preds))"
   ]
  },
  {
   "cell_type": "markdown",
   "id": "8fe6f28a",
   "metadata": {},
   "source": [
    "#### 7. Load the armada.csv data, drop the 'Battle' column, convert 'Spanish Involvement' to binary, and replace 'Defeat' with 0, 'Draw' with 1, and 'Victory' with 2 in the 'Portuguese Outcome' column to create labels."
   ]
  },
  {
   "cell_type": "code",
   "execution_count": 11,
   "id": "648cdeac",
   "metadata": {},
   "outputs": [
    {
     "data": {
      "text/html": [
       "<div>\n",
       "<style scoped>\n",
       "    .dataframe tbody tr th:only-of-type {\n",
       "        vertical-align: middle;\n",
       "    }\n",
       "\n",
       "    .dataframe tbody tr th {\n",
       "        vertical-align: top;\n",
       "    }\n",
       "\n",
       "    .dataframe thead th {\n",
       "        text-align: right;\n",
       "    }\n",
       "</style>\n",
       "<table border=\"1\" class=\"dataframe\">\n",
       "  <thead>\n",
       "    <tr style=\"text-align: right;\">\n",
       "      <th></th>\n",
       "      <th>Year</th>\n",
       "      <th>Portuguese Ships</th>\n",
       "      <th>Dutch Ships</th>\n",
       "      <th>English Ships</th>\n",
       "      <th>Ratio of Portuguese Ships to Dutch/British Ships</th>\n",
       "      <th>Spanish Involvement</th>\n",
       "      <th>Portuguese Outcome</th>\n",
       "    </tr>\n",
       "  </thead>\n",
       "  <tbody>\n",
       "    <tr>\n",
       "      <th>0</th>\n",
       "      <td>1601</td>\n",
       "      <td>6</td>\n",
       "      <td>3</td>\n",
       "      <td>0</td>\n",
       "      <td>2.000</td>\n",
       "      <td>0.0</td>\n",
       "      <td>1.0</td>\n",
       "    </tr>\n",
       "    <tr>\n",
       "      <th>1</th>\n",
       "      <td>1606</td>\n",
       "      <td>14</td>\n",
       "      <td>11</td>\n",
       "      <td>0</td>\n",
       "      <td>1.273</td>\n",
       "      <td>0.0</td>\n",
       "      <td>1.0</td>\n",
       "    </tr>\n",
       "    <tr>\n",
       "      <th>2</th>\n",
       "      <td>1606</td>\n",
       "      <td>6</td>\n",
       "      <td>9</td>\n",
       "      <td>0</td>\n",
       "      <td>0.667</td>\n",
       "      <td>0.0</td>\n",
       "      <td>0.0</td>\n",
       "    </tr>\n",
       "  </tbody>\n",
       "</table>\n",
       "</div>"
      ],
      "text/plain": [
       "   Year  Portuguese Ships  Dutch Ships  English Ships  \\\n",
       "0  1601                 6            3              0   \n",
       "1  1606                14           11              0   \n",
       "2  1606                 6            9              0   \n",
       "\n",
       "   Ratio of Portuguese Ships to Dutch/British Ships  Spanish Involvement  \\\n",
       "0                                             2.000                  0.0   \n",
       "1                                             1.273                  0.0   \n",
       "2                                             0.667                  0.0   \n",
       "\n",
       "   Portuguese Outcome  \n",
       "0                 1.0  \n",
       "1                 1.0  \n",
       "2                 0.0  "
      ]
     },
     "execution_count": 11,
     "metadata": {},
     "output_type": "execute_result"
    }
   ],
   "source": [
    "# Read-in the csv file as a Pandas dataframe\n",
    "armada_df = pd.read_csv(filepath_or_buffer = 'armada.csv')\n",
    "\n",
    "armada_df.drop(labels = ['Battle'], axis = 1, inplace = True)\n",
    "\n",
    "# Make \"Spanish Invovlement binary\"\n",
    "armada_df['Spanish Involvement'].replace(to_replace = ['No','Yes'], value = [0., 1.], inplace = True)\n",
    "\n",
    "# Replace 'Defeat' with 0, 'Draw' with 1, and 'Victory' with 2\n",
    "armada_df['Portuguese Outcome'].replace(to_replace = ['Defeat', 'Draw', 'Victory'], value = [0., 1., 2.], inplace = True)\n",
    "\n",
    "armada_df.head(3)"
   ]
  },
  {
   "cell_type": "markdown",
   "id": "a2a10411",
   "metadata": {},
   "source": [
    "#### 8. Split the armada.csv data using an 80/20 train/test split."
   ]
  },
  {
   "cell_type": "code",
   "execution_count": 12,
   "id": "7c406fbc",
   "metadata": {},
   "outputs": [],
   "source": [
    "armada_train, armada_test = train_test_split(armada_df,\n",
    "                                             train_size = 0.8,\n",
    "                                             random_state = 42)"
   ]
  },
  {
   "cell_type": "code",
   "execution_count": 13,
   "id": "67abafb1",
   "metadata": {},
   "outputs": [
    {
     "data": {
      "text/html": [
       "<div>\n",
       "<style scoped>\n",
       "    .dataframe tbody tr th:only-of-type {\n",
       "        vertical-align: middle;\n",
       "    }\n",
       "\n",
       "    .dataframe tbody tr th {\n",
       "        vertical-align: top;\n",
       "    }\n",
       "\n",
       "    .dataframe thead th {\n",
       "        text-align: right;\n",
       "    }\n",
       "</style>\n",
       "<table border=\"1\" class=\"dataframe\">\n",
       "  <thead>\n",
       "    <tr style=\"text-align: right;\">\n",
       "      <th></th>\n",
       "      <th>Year</th>\n",
       "      <th>Portuguese Ships</th>\n",
       "      <th>Dutch Ships</th>\n",
       "      <th>English Ships</th>\n",
       "      <th>Ratio of Portuguese Ships to Dutch/British Ships</th>\n",
       "      <th>Spanish Involvement</th>\n",
       "      <th>Portuguese Outcome</th>\n",
       "    </tr>\n",
       "  </thead>\n",
       "  <tbody>\n",
       "    <tr>\n",
       "      <th>17</th>\n",
       "      <td>1625</td>\n",
       "      <td>35</td>\n",
       "      <td>20</td>\n",
       "      <td>0</td>\n",
       "      <td>1.750</td>\n",
       "      <td>1.0</td>\n",
       "      <td>2.0</td>\n",
       "    </tr>\n",
       "    <tr>\n",
       "      <th>22</th>\n",
       "      <td>1639</td>\n",
       "      <td>51</td>\n",
       "      <td>11</td>\n",
       "      <td>0</td>\n",
       "      <td>4.636</td>\n",
       "      <td>1.0</td>\n",
       "      <td>1.0</td>\n",
       "    </tr>\n",
       "    <tr>\n",
       "      <th>11</th>\n",
       "      <td>1637</td>\n",
       "      <td>6</td>\n",
       "      <td>7</td>\n",
       "      <td>0</td>\n",
       "      <td>0.857</td>\n",
       "      <td>0.0</td>\n",
       "      <td>1.0</td>\n",
       "    </tr>\n",
       "  </tbody>\n",
       "</table>\n",
       "</div>"
      ],
      "text/plain": [
       "    Year  Portuguese Ships  Dutch Ships  English Ships  \\\n",
       "17  1625                35           20              0   \n",
       "22  1639                51           11              0   \n",
       "11  1637                 6            7              0   \n",
       "\n",
       "    Ratio of Portuguese Ships to Dutch/British Ships  Spanish Involvement  \\\n",
       "17                                             1.750                  1.0   \n",
       "22                                             4.636                  1.0   \n",
       "11                                             0.857                  0.0   \n",
       "\n",
       "    Portuguese Outcome  \n",
       "17                 2.0  \n",
       "22                 1.0  \n",
       "11                 1.0  "
      ]
     },
     "execution_count": 13,
     "metadata": {},
     "output_type": "execute_result"
    }
   ],
   "source": [
    "armada_train.head(3)"
   ]
  },
  {
   "cell_type": "code",
   "execution_count": 14,
   "id": "7365a645",
   "metadata": {},
   "outputs": [
    {
     "data": {
      "text/html": [
       "<div>\n",
       "<style scoped>\n",
       "    .dataframe tbody tr th:only-of-type {\n",
       "        vertical-align: middle;\n",
       "    }\n",
       "\n",
       "    .dataframe tbody tr th {\n",
       "        vertical-align: top;\n",
       "    }\n",
       "\n",
       "    .dataframe thead th {\n",
       "        text-align: right;\n",
       "    }\n",
       "</style>\n",
       "<table border=\"1\" class=\"dataframe\">\n",
       "  <thead>\n",
       "    <tr style=\"text-align: right;\">\n",
       "      <th></th>\n",
       "      <th>Year</th>\n",
       "      <th>Portuguese Ships</th>\n",
       "      <th>Dutch Ships</th>\n",
       "      <th>English Ships</th>\n",
       "      <th>Ratio of Portuguese Ships to Dutch/British Ships</th>\n",
       "      <th>Spanish Involvement</th>\n",
       "      <th>Portuguese Outcome</th>\n",
       "    </tr>\n",
       "  </thead>\n",
       "  <tbody>\n",
       "    <tr>\n",
       "      <th>9</th>\n",
       "      <td>1625</td>\n",
       "      <td>8</td>\n",
       "      <td>4</td>\n",
       "      <td>4</td>\n",
       "      <td>1.000</td>\n",
       "      <td>0.0</td>\n",
       "      <td>1.0</td>\n",
       "    </tr>\n",
       "    <tr>\n",
       "      <th>25</th>\n",
       "      <td>1645</td>\n",
       "      <td>6</td>\n",
       "      <td>7</td>\n",
       "      <td>0</td>\n",
       "      <td>0.857</td>\n",
       "      <td>1.0</td>\n",
       "      <td>0.0</td>\n",
       "    </tr>\n",
       "    <tr>\n",
       "      <th>8</th>\n",
       "      <td>1622</td>\n",
       "      <td>4</td>\n",
       "      <td>4</td>\n",
       "      <td>2</td>\n",
       "      <td>0.667</td>\n",
       "      <td>0.0</td>\n",
       "      <td>0.0</td>\n",
       "    </tr>\n",
       "  </tbody>\n",
       "</table>\n",
       "</div>"
      ],
      "text/plain": [
       "    Year  Portuguese Ships  Dutch Ships  English Ships  \\\n",
       "9   1625                 8            4              4   \n",
       "25  1645                 6            7              0   \n",
       "8   1622                 4            4              2   \n",
       "\n",
       "    Ratio of Portuguese Ships to Dutch/British Ships  Spanish Involvement  \\\n",
       "9                                              1.000                  0.0   \n",
       "25                                             0.857                  1.0   \n",
       "8                                              0.667                  0.0   \n",
       "\n",
       "    Portuguese Outcome  \n",
       "9                  1.0  \n",
       "25                 0.0  \n",
       "8                  0.0  "
      ]
     },
     "execution_count": 14,
     "metadata": {},
     "output_type": "execute_result"
    }
   ],
   "source": [
    "armada_test.head(3)"
   ]
  },
  {
   "cell_type": "markdown",
   "id": "e5ce4b3e",
   "metadata": {},
   "source": [
    "#### 9. Z-Score all non-label columns of the train and test dataframes."
   ]
  },
  {
   "cell_type": "code",
   "execution_count": 15,
   "id": "3158f36a",
   "metadata": {},
   "outputs": [
    {
     "data": {
      "text/html": [
       "<div>\n",
       "<style scoped>\n",
       "    .dataframe tbody tr th:only-of-type {\n",
       "        vertical-align: middle;\n",
       "    }\n",
       "\n",
       "    .dataframe tbody tr th {\n",
       "        vertical-align: top;\n",
       "    }\n",
       "\n",
       "    .dataframe thead th {\n",
       "        text-align: right;\n",
       "    }\n",
       "</style>\n",
       "<table border=\"1\" class=\"dataframe\">\n",
       "  <thead>\n",
       "    <tr style=\"text-align: right;\">\n",
       "      <th></th>\n",
       "      <th>Year</th>\n",
       "      <th>Portuguese Ships</th>\n",
       "      <th>Dutch Ships</th>\n",
       "      <th>English Ships</th>\n",
       "      <th>Ratio of Portuguese Ships to Dutch/British Ships</th>\n",
       "      <th>Spanish Involvement</th>\n",
       "    </tr>\n",
       "  </thead>\n",
       "  <tbody>\n",
       "    <tr>\n",
       "      <th>17</th>\n",
       "      <td>-0.192882</td>\n",
       "      <td>1.133715</td>\n",
       "      <td>0.179608</td>\n",
       "      <td>-0.300537</td>\n",
       "      <td>0.523451</td>\n",
       "      <td>0.977008</td>\n",
       "    </tr>\n",
       "    <tr>\n",
       "      <th>22</th>\n",
       "      <td>0.568754</td>\n",
       "      <td>2.053226</td>\n",
       "      <td>-0.183273</td>\n",
       "      <td>-0.300537</td>\n",
       "      <td>3.401687</td>\n",
       "      <td>0.977008</td>\n",
       "    </tr>\n",
       "    <tr>\n",
       "      <th>11</th>\n",
       "      <td>0.459949</td>\n",
       "      <td>-0.532898</td>\n",
       "      <td>-0.344553</td>\n",
       "      <td>-0.300537</td>\n",
       "      <td>-0.367146</td>\n",
       "      <td>-0.977008</td>\n",
       "    </tr>\n",
       "  </tbody>\n",
       "</table>\n",
       "</div>"
      ],
      "text/plain": [
       "        Year  Portuguese Ships  Dutch Ships  English Ships  \\\n",
       "17 -0.192882          1.133715     0.179608      -0.300537   \n",
       "22  0.568754          2.053226    -0.183273      -0.300537   \n",
       "11  0.459949         -0.532898    -0.344553      -0.300537   \n",
       "\n",
       "    Ratio of Portuguese Ships to Dutch/British Ships  Spanish Involvement  \n",
       "17                                          0.523451             0.977008  \n",
       "22                                          3.401687             0.977008  \n",
       "11                                         -0.367146            -0.977008  "
      ]
     },
     "execution_count": 15,
     "metadata": {},
     "output_type": "execute_result"
    }
   ],
   "source": [
    "armada_train_z = (armada_train[armada_train.columns[:-1]] - armada_train[armada_train.columns[:-1]].mean(axis = 0)) / armada_train[armada_train.columns[:-1]].std(axis = 0)\n",
    "armada_train_z.head(3)"
   ]
  },
  {
   "cell_type": "code",
   "execution_count": 16,
   "id": "e656e547",
   "metadata": {},
   "outputs": [
    {
     "data": {
      "text/html": [
       "<div>\n",
       "<style scoped>\n",
       "    .dataframe tbody tr th:only-of-type {\n",
       "        vertical-align: middle;\n",
       "    }\n",
       "\n",
       "    .dataframe tbody tr th {\n",
       "        vertical-align: top;\n",
       "    }\n",
       "\n",
       "    .dataframe thead th {\n",
       "        text-align: right;\n",
       "    }\n",
       "</style>\n",
       "<table border=\"1\" class=\"dataframe\">\n",
       "  <thead>\n",
       "    <tr style=\"text-align: right;\">\n",
       "      <th></th>\n",
       "      <th>Year</th>\n",
       "      <th>Portuguese Ships</th>\n",
       "      <th>Dutch Ships</th>\n",
       "      <th>English Ships</th>\n",
       "      <th>Ratio of Portuguese Ships to Dutch/British Ships</th>\n",
       "      <th>Spanish Involvement</th>\n",
       "    </tr>\n",
       "  </thead>\n",
       "  <tbody>\n",
       "    <tr>\n",
       "      <th>9</th>\n",
       "      <td>-0.192882</td>\n",
       "      <td>-0.417960</td>\n",
       "      <td>-0.465513</td>\n",
       "      <td>0.300537</td>\n",
       "      <td>-0.224531</td>\n",
       "      <td>-0.977008</td>\n",
       "    </tr>\n",
       "    <tr>\n",
       "      <th>25</th>\n",
       "      <td>0.895170</td>\n",
       "      <td>-0.532898</td>\n",
       "      <td>-0.344553</td>\n",
       "      <td>-0.300537</td>\n",
       "      <td>-0.367146</td>\n",
       "      <td>0.977008</td>\n",
       "    </tr>\n",
       "    <tr>\n",
       "      <th>8</th>\n",
       "      <td>-0.356090</td>\n",
       "      <td>-0.647837</td>\n",
       "      <td>-0.465513</td>\n",
       "      <td>0.000000</td>\n",
       "      <td>-0.556635</td>\n",
       "      <td>-0.977008</td>\n",
       "    </tr>\n",
       "  </tbody>\n",
       "</table>\n",
       "</div>"
      ],
      "text/plain": [
       "        Year  Portuguese Ships  Dutch Ships  English Ships  \\\n",
       "9  -0.192882         -0.417960    -0.465513       0.300537   \n",
       "25  0.895170         -0.532898    -0.344553      -0.300537   \n",
       "8  -0.356090         -0.647837    -0.465513       0.000000   \n",
       "\n",
       "    Ratio of Portuguese Ships to Dutch/British Ships  Spanish Involvement  \n",
       "9                                          -0.224531            -0.977008  \n",
       "25                                         -0.367146             0.977008  \n",
       "8                                          -0.556635            -0.977008  "
      ]
     },
     "execution_count": 16,
     "metadata": {},
     "output_type": "execute_result"
    }
   ],
   "source": [
    "armada_test_z = (armada_test[armada_train.columns[:-1]] - armada_train[armada_train.columns[:-1]].mean(axis = 0)) / armada_train[armada_train.columns[:-1]].std(axis = 0)\n",
    "armada_test_z.head(3)"
   ]
  },
  {
   "cell_type": "markdown",
   "id": "2db72921",
   "metadata": {},
   "source": [
    "#### 10. Predict 'Portuguese Outcome' for the test data using Gaussian Naïve Bayes."
   ]
  },
  {
   "cell_type": "code",
   "execution_count": 17,
   "id": "10693e6e",
   "metadata": {},
   "outputs": [
    {
     "data": {
      "text/html": [
       "<style>#sk-container-id-2 {color: black;}#sk-container-id-2 pre{padding: 0;}#sk-container-id-2 div.sk-toggleable {background-color: white;}#sk-container-id-2 label.sk-toggleable__label {cursor: pointer;display: block;width: 100%;margin-bottom: 0;padding: 0.3em;box-sizing: border-box;text-align: center;}#sk-container-id-2 label.sk-toggleable__label-arrow:before {content: \"▸\";float: left;margin-right: 0.25em;color: #696969;}#sk-container-id-2 label.sk-toggleable__label-arrow:hover:before {color: black;}#sk-container-id-2 div.sk-estimator:hover label.sk-toggleable__label-arrow:before {color: black;}#sk-container-id-2 div.sk-toggleable__content {max-height: 0;max-width: 0;overflow: hidden;text-align: left;background-color: #f0f8ff;}#sk-container-id-2 div.sk-toggleable__content pre {margin: 0.2em;color: black;border-radius: 0.25em;background-color: #f0f8ff;}#sk-container-id-2 input.sk-toggleable__control:checked~div.sk-toggleable__content {max-height: 200px;max-width: 100%;overflow: auto;}#sk-container-id-2 input.sk-toggleable__control:checked~label.sk-toggleable__label-arrow:before {content: \"▾\";}#sk-container-id-2 div.sk-estimator input.sk-toggleable__control:checked~label.sk-toggleable__label {background-color: #d4ebff;}#sk-container-id-2 div.sk-label input.sk-toggleable__control:checked~label.sk-toggleable__label {background-color: #d4ebff;}#sk-container-id-2 input.sk-hidden--visually {border: 0;clip: rect(1px 1px 1px 1px);clip: rect(1px, 1px, 1px, 1px);height: 1px;margin: -1px;overflow: hidden;padding: 0;position: absolute;width: 1px;}#sk-container-id-2 div.sk-estimator {font-family: monospace;background-color: #f0f8ff;border: 1px dotted black;border-radius: 0.25em;box-sizing: border-box;margin-bottom: 0.5em;}#sk-container-id-2 div.sk-estimator:hover {background-color: #d4ebff;}#sk-container-id-2 div.sk-parallel-item::after {content: \"\";width: 100%;border-bottom: 1px solid gray;flex-grow: 1;}#sk-container-id-2 div.sk-label:hover label.sk-toggleable__label {background-color: #d4ebff;}#sk-container-id-2 div.sk-serial::before {content: \"\";position: absolute;border-left: 1px solid gray;box-sizing: border-box;top: 0;bottom: 0;left: 50%;z-index: 0;}#sk-container-id-2 div.sk-serial {display: flex;flex-direction: column;align-items: center;background-color: white;padding-right: 0.2em;padding-left: 0.2em;position: relative;}#sk-container-id-2 div.sk-item {position: relative;z-index: 1;}#sk-container-id-2 div.sk-parallel {display: flex;align-items: stretch;justify-content: center;background-color: white;position: relative;}#sk-container-id-2 div.sk-item::before, #sk-container-id-2 div.sk-parallel-item::before {content: \"\";position: absolute;border-left: 1px solid gray;box-sizing: border-box;top: 0;bottom: 0;left: 50%;z-index: -1;}#sk-container-id-2 div.sk-parallel-item {display: flex;flex-direction: column;z-index: 1;position: relative;background-color: white;}#sk-container-id-2 div.sk-parallel-item:first-child::after {align-self: flex-end;width: 50%;}#sk-container-id-2 div.sk-parallel-item:last-child::after {align-self: flex-start;width: 50%;}#sk-container-id-2 div.sk-parallel-item:only-child::after {width: 0;}#sk-container-id-2 div.sk-dashed-wrapped {border: 1px dashed gray;margin: 0 0.4em 0.5em 0.4em;box-sizing: border-box;padding-bottom: 0.4em;background-color: white;}#sk-container-id-2 div.sk-label label {font-family: monospace;font-weight: bold;display: inline-block;line-height: 1.2em;}#sk-container-id-2 div.sk-label-container {text-align: center;}#sk-container-id-2 div.sk-container {/* jupyter's `normalize.less` sets `[hidden] { display: none; }` but bootstrap.min.css set `[hidden] { display: none !important; }` so we also need the `!important` here to be able to override the default hidden behavior on the sphinx rendered scikit-learn.org. See: https://github.com/scikit-learn/scikit-learn/issues/21755 */display: inline-block !important;position: relative;}#sk-container-id-2 div.sk-text-repr-fallback {display: none;}</style><div id=\"sk-container-id-2\" class=\"sk-top-container\"><div class=\"sk-text-repr-fallback\"><pre>GaussianNB()</pre><b>In a Jupyter environment, please rerun this cell to show the HTML representation or trust the notebook. <br />On GitHub, the HTML representation is unable to render, please try loading this page with nbviewer.org.</b></div><div class=\"sk-container\" hidden><div class=\"sk-item\"><div class=\"sk-estimator sk-toggleable\"><input class=\"sk-toggleable__control sk-hidden--visually\" id=\"sk-estimator-id-2\" type=\"checkbox\" checked><label for=\"sk-estimator-id-2\" class=\"sk-toggleable__label sk-toggleable__label-arrow\">GaussianNB</label><div class=\"sk-toggleable__content\"><pre>GaussianNB()</pre></div></div></div></div></div>"
      ],
      "text/plain": [
       "GaussianNB()"
      ]
     },
     "execution_count": 17,
     "metadata": {},
     "output_type": "execute_result"
    }
   ],
   "source": [
    "gnb = GaussianNB()\n",
    "\n",
    "gnb.fit(armada_train_z,\n",
    "        armada_train[['Portuguese Outcome']].to_numpy().flatten())"
   ]
  },
  {
   "cell_type": "code",
   "execution_count": 18,
   "id": "f278d072",
   "metadata": {},
   "outputs": [
    {
     "data": {
      "text/plain": [
       "array([1., 2., 1., 2., 2., 2.])"
      ]
     },
     "execution_count": 18,
     "metadata": {},
     "output_type": "execute_result"
    }
   ],
   "source": [
    "gnb_preds = gnb.predict(armada_test_z)\n",
    "gnb_preds"
   ]
  },
  {
   "cell_type": "markdown",
   "id": "55bf8225",
   "metadata": {},
   "source": [
    "#### 11. Create a classification report for the test 'Portuguese Outcome' predictions."
   ]
  },
  {
   "cell_type": "code",
   "execution_count": 19,
   "id": "93c44edc",
   "metadata": {},
   "outputs": [
    {
     "data": {
      "text/plain": [
       "array([[1.39345180e-01, 8.60654820e-01, 0.00000000e+00],\n",
       "       [3.87374020e-06, 2.59549808e-04, 9.99736576e-01],\n",
       "       [4.44583320e-02, 9.55541668e-01, 0.00000000e+00],\n",
       "       [3.07550519e-05, 8.54239551e-04, 9.99115005e-01],\n",
       "       [1.75568917e-06, 1.10429804e-04, 9.99887815e-01],\n",
       "       [4.98077639e-06, 4.94487477e-04, 9.99500532e-01]])"
      ]
     },
     "execution_count": 19,
     "metadata": {},
     "output_type": "execute_result"
    }
   ],
   "source": [
    "gnb.predict_proba(armada_test_z)"
   ]
  },
  {
   "cell_type": "code",
   "execution_count": 20,
   "id": "354cfa50",
   "metadata": {},
   "outputs": [
    {
     "name": "stdout",
     "output_type": "stream",
     "text": [
      "              precision    recall  f1-score   support\n",
      "\n",
      "         0.0       0.00      0.00      0.00         2\n",
      "         1.0       0.50      0.33      0.40         3\n",
      "         2.0       0.25      1.00      0.40         1\n",
      "\n",
      "    accuracy                           0.33         6\n",
      "   macro avg       0.25      0.44      0.27         6\n",
      "weighted avg       0.29      0.33      0.27         6\n",
      "\n"
     ]
    },
    {
     "name": "stderr",
     "output_type": "stream",
     "text": [
      "/home/drandrade/anaconda3/lib/python3.11/site-packages/sklearn/metrics/_classification.py:1469: UndefinedMetricWarning: Precision and F-score are ill-defined and being set to 0.0 in labels with no predicted samples. Use `zero_division` parameter to control this behavior.\n",
      "  _warn_prf(average, modifier, msg_start, len(result))\n",
      "/home/drandrade/anaconda3/lib/python3.11/site-packages/sklearn/metrics/_classification.py:1469: UndefinedMetricWarning: Precision and F-score are ill-defined and being set to 0.0 in labels with no predicted samples. Use `zero_division` parameter to control this behavior.\n",
      "  _warn_prf(average, modifier, msg_start, len(result))\n",
      "/home/drandrade/anaconda3/lib/python3.11/site-packages/sklearn/metrics/_classification.py:1469: UndefinedMetricWarning: Precision and F-score are ill-defined and being set to 0.0 in labels with no predicted samples. Use `zero_division` parameter to control this behavior.\n",
      "  _warn_prf(average, modifier, msg_start, len(result))\n"
     ]
    }
   ],
   "source": [
    "print(classification_report(armada_test[armada_test.columns[-1]].to_numpy(),\n",
    "                            gnb_preds))"
   ]
  }
 ],
 "metadata": {
  "kernelspec": {
   "display_name": "Python 3 (ipykernel)",
   "language": "python",
   "name": "python3"
  },
  "language_info": {
   "codemirror_mode": {
    "name": "ipython",
    "version": 3
   },
   "file_extension": ".py",
   "mimetype": "text/x-python",
   "name": "python",
   "nbconvert_exporter": "python",
   "pygments_lexer": "ipython3",
   "version": "3.11.5"
  }
 },
 "nbformat": 4,
 "nbformat_minor": 5
}
