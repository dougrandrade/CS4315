{
 "cells": [
  {
   "cell_type": "markdown",
   "id": "7b3fea67",
   "metadata": {},
   "source": [
    "<left center>17 January 2024</center>\n",
    "# <center>Lab 1 Assignment - CS 4315</center>\n",
    "<center>Doug Andrade</center>"
   ]
  },
  {
   "cell_type": "markdown",
   "id": "d0122c56",
   "metadata": {},
   "source": [
    "#### 1. A loop that loops through all the integers from $1$ to $100$ and prints the even integers."
   ]
  },
  {
   "cell_type": "code",
   "execution_count": 75,
   "id": "33f95c71",
   "metadata": {},
   "outputs": [
    {
     "name": "stdout",
     "output_type": "stream",
     "text": [
      "2\n",
      "4\n",
      "6\n",
      "8\n",
      "10\n",
      "12\n",
      "14\n",
      "16\n",
      "18\n",
      "20\n",
      "22\n",
      "24\n",
      "26\n",
      "28\n",
      "30\n",
      "32\n",
      "34\n",
      "36\n",
      "38\n",
      "40\n",
      "42\n",
      "44\n",
      "46\n",
      "48\n",
      "50\n",
      "52\n",
      "54\n",
      "56\n",
      "58\n",
      "60\n",
      "62\n",
      "64\n",
      "66\n",
      "68\n",
      "70\n",
      "72\n",
      "74\n",
      "76\n",
      "78\n",
      "80\n",
      "82\n",
      "84\n",
      "86\n",
      "88\n",
      "90\n",
      "92\n",
      "94\n",
      "96\n",
      "98\n",
      "100\n"
     ]
    }
   ],
   "source": [
    "for i in range(101):\n",
    "    if i !=0 and i % 2 == 0:\n",
    "        print(i)"
   ]
  },
  {
   "cell_type": "markdown",
   "id": "4d751dda",
   "metadata": {},
   "source": [
    "#### 2.  A loop that iterates through the elements of `['apple', 'banana', 'cherry', 'date', 'eggplant']` and prints each string in the list appended with `' is a fruit.'`. Also, print the letter of each string corresponding to the string's index in the list."
   ]
  },
  {
   "cell_type": "code",
   "execution_count": 82,
   "id": "912636ab",
   "metadata": {},
   "outputs": [
    {
     "name": "stdout",
     "output_type": "stream",
     "text": [
      "0. Apple is a fruit. The element at the 0 index is a.\n",
      "1. Banana is a fruit. The element at the 1 index is a.\n",
      "2. Cherry is a fruit. The element at the 2 index is e.\n",
      "3. Date is a fruit. The element at the 3 index is e.\n",
      "4. Eggplant is a fruit. The element at the 4 index is l.\n"
     ]
    }
   ],
   "source": [
    "fruit_list = ['apple', 'banana', 'cherry', 'date', 'eggplant']\n",
    "\n",
    "idx = 0\n",
    "for element in fruit_list:\n",
    "        print('%s. %s is a fruit. The element at the %s index is %s.' % (idx, element.capitalize(), idx, element[idx]))\n",
    "        idx += 1"
   ]
  },
  {
   "cell_type": "markdown",
   "id": "e1bdd75c",
   "metadata": {},
   "source": [
    "#### 3.  Create a dictionary with keys `['apple', 'banana', 'cherry', 'date', 'eggplant']` and the values being the last letter of each key."
   ]
  },
  {
   "cell_type": "code",
   "execution_count": 80,
   "id": "1081593f",
   "metadata": {},
   "outputs": [
    {
     "name": "stdout",
     "output_type": "stream",
     "text": [
      "apple: e\n",
      "banana: a\n",
      "cherry: y\n",
      "date: e\n",
      "eggplant: t\n"
     ]
    }
   ],
   "source": [
    "fruit_dict = {}\n",
    "\n",
    "for key in fruit:\n",
    "    value = key[-1]\n",
    "    # Add the key-value pair to the dictionary\n",
    "    fruit_dict[key] = value\n",
    "\n",
    "for key, value in fruit_dict.items():\n",
    "    print('%s: %s' % (key, value))"
   ]
  }
 ],
 "metadata": {
  "kernelspec": {
   "display_name": "Python 3 (ipykernel)",
   "language": "python",
   "name": "python3"
  },
  "language_info": {
   "codemirror_mode": {
    "name": "ipython",
    "version": 3
   },
   "file_extension": ".py",
   "mimetype": "text/x-python",
   "name": "python",
   "nbconvert_exporter": "python",
   "pygments_lexer": "ipython3",
   "version": "3.11.5"
  }
 },
 "nbformat": 4,
 "nbformat_minor": 5
}
