{
 "cells": [
  {
   "cell_type": "markdown",
   "id": "09cde8e8",
   "metadata": {},
   "source": [
    "14 Febuary 2024\n",
    "# <center>Lab 5 Assignment - CS 4315<center>\n",
    "<center>Doug Andrade</center>"
   ]
  },
  {
   "cell_type": "markdown",
   "id": "8bbbe79b",
   "metadata": {},
   "source": [
    "#### 1. Load the armada.csv into a `Pandas` dataframe."
   ]
  },
  {
   "cell_type": "code",
   "execution_count": null,
   "id": "db9e8f74",
   "metadata": {},
   "outputs": [],
   "source": []
  },
  {
   "cell_type": "markdown",
   "id": "f314d3c9",
   "metadata": {},
   "source": [
    "#### 2. Get the `mean`, `standard deviation`, `max`, and `min` of each numeric column."
   ]
  },
  {
   "cell_type": "code",
   "execution_count": null,
   "id": "171e8307",
   "metadata": {},
   "outputs": [],
   "source": []
  },
  {
   "cell_type": "markdown",
   "id": "59ce2773",
   "metadata": {},
   "source": [
    "#### 3. Create z-scored columns for each numeric column using the statistics for the samples given."
   ]
  },
  {
   "cell_type": "code",
   "execution_count": null,
   "id": "5eec495c",
   "metadata": {},
   "outputs": [],
   "source": []
  },
  {
   "cell_type": "markdown",
   "id": "84e99e91",
   "metadata": {},
   "source": [
    "#### 4. Create either a binary column or one-hot columns for the non-numeric columns."
   ]
  },
  {
   "cell_type": "code",
   "execution_count": null,
   "id": "fa60f948",
   "metadata": {},
   "outputs": [],
   "source": []
  },
  {
   "cell_type": "markdown",
   "id": "5b447a88",
   "metadata": {},
   "source": [
    "#### 5. Calculate and display, with a color gradient, the correlation between the z-scored, binary, and one-hot columns, excluding the battle one-hot columns."
   ]
  },
  {
   "cell_type": "code",
   "execution_count": null,
   "id": "4e7ca6fb",
   "metadata": {},
   "outputs": [],
   "source": []
  }
 ],
 "metadata": {
  "kernelspec": {
   "display_name": "Python 3 (ipykernel)",
   "language": "python",
   "name": "python3"
  },
  "language_info": {
   "codemirror_mode": {
    "name": "ipython",
    "version": 3
   },
   "file_extension": ".py",
   "mimetype": "text/x-python",
   "name": "python",
   "nbconvert_exporter": "python",
   "pygments_lexer": "ipython3",
   "version": "3.11.5"
  }
 },
 "nbformat": 4,
 "nbformat_minor": 5
}
