{
 "cells": [
  {
   "cell_type": "markdown",
   "id": "60d8e32d",
   "metadata": {},
   "source": [
    "21 Febuary 2024\n",
    "# <center>CS 4315 Project</center>\n",
    "<center>Doug Andrade</center>"
   ]
  }
 ],
 "metadata": {
  "kernelspec": {
   "display_name": "Python 3 (ipykernel)",
   "language": "python",
   "name": "python3"
  },
  "language_info": {
   "codemirror_mode": {
    "name": "ipython",
    "version": 3
   },
   "file_extension": ".py",
   "mimetype": "text/x-python",
   "name": "python",
   "nbconvert_exporter": "python",
   "pygments_lexer": "ipython3",
   "version": "3.11.5"
  }
 },
 "nbformat": 4,
 "nbformat_minor": 5
}
