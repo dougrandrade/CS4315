{
 "cells": [
  {
   "cell_type": "markdown",
   "id": "818b0dff",
   "metadata": {},
   "source": [
    "7 Febuary 2024\n",
    "# <center>Lab 4 Assignment - CS 4315</center>\n",
    "<center>Doug Andrade</center>"
   ]
  },
  {
   "cell_type": "markdown",
   "id": "9b00edea",
   "metadata": {},
   "source": [
    "#### 1. Load the armada.csv file into a `Pandas` data frame."
   ]
  },
  {
   "cell_type": "code",
   "execution_count": null,
   "id": "10bf1942",
   "metadata": {},
   "outputs": [],
   "source": [
    "# Import the Pandas module for data frame operations\n",
    "import pandas as pd\n",
    "\n",
    "# Set the csv file name to a object, to avoid hard-coding\n",
    "csv_file = 'armada.csv'\n",
    "\n",
    "# Read-in the csv file as a Pandas data frame, as an object to be operated on later\n",
    "armada_df = pd.read_csv(filepath_or_buffer = csv_file)\n",
    "\n",
    "armada_df"
   ]
  },
  {
   "cell_type": "markdown",
   "id": "3c1f78ee",
   "metadata": {},
   "source": [
    "#### 2. Return a data frame that contains the rows associated with a Portuguese victory."
   ]
  },
  {
   "cell_type": "code",
   "execution_count": null,
   "id": "43c7bad4",
   "metadata": {},
   "outputs": [],
   "source": [
    "# Set the column name and filter category\n",
    "column_name = 'Portuguese Outcome'\n",
    "col_val_filter = 'Victory'\n",
    "\n",
    "# Select the applicable rows (Portuguese victories) by using the series indexing (.loc for the row value)\n",
    "armada_df.loc[armada_df[column_name] == col_val_filter]"
   ]
  },
  {
   "cell_type": "markdown",
   "id": "ab8e559e",
   "metadata": {},
   "source": [
    "#### 3. Return the average number of Portuguese ships present in the victories."
   ]
  },
  {
   "cell_type": "code",
   "execution_count": null,
   "id": "5f725f5d",
   "metadata": {},
   "outputs": [],
   "source": [
    "# Add an index for the \"Portuguese Ships\" column with the .mean() function to calculate the average\n",
    "PT_vict_ships_avg = armada_df.loc[armada_df[column_name] == col_val_filter]['Portuguese Ships'].mean()\n",
    "\n",
    "# Extract the length of the total ships present in Portuguese victories\n",
    "PT_num_vict = len(armada_df.loc[armada_df[column_name] == col_val_filter]['Portuguese Ships'])\n",
    "\n",
    "# Print the average number of Portuguese ships present in victories using string formatting\n",
    "print('Portugal had an average of %.2f ships in their %d recorded victories.' % (PT_vict_ships_avg, PT_num_vict))"
   ]
  },
  {
   "cell_type": "markdown",
   "id": "00e19951",
   "metadata": {},
   "source": [
    "#### 4. Create a bar plot with title and axis labels that visualizes the number of Portuguese ships in each battle (each battle is identified by the location and the year), whether a victory or not. "
   ]
  },
  {
   "cell_type": "code",
   "execution_count": null,
   "id": "004a6162",
   "metadata": {},
   "outputs": [],
   "source": [
    "# Import matplotlib.pyplot module for the plotting API\n",
    "import matplotlib.pyplot as plt\n",
    "import matplotlib.patches as mpatches\n",
    "# Magic command useful for Jupyter Notebooks to embed plots within the notebook\n",
    "%matplotlib inline\n",
    "\n",
    "# Apply R's ggplot grid and background styling\n",
    "plt.style.use('ggplot')\n",
    "\n",
    "# Set the chart size 10x6 for ease of visualization\n",
    "plt.figure(figsize = (20, 10))\n",
    "\n",
    "# Conditionally set the color of bars based on victory status\n",
    "colors = ['darkgreen' if outcome == 'Victory' else 'gray' if outcome == 'Draw' else 'darkred' for outcome in armada_df['Portuguese Outcome']]\n",
    "\n",
    "# Line plot of x and y, with additional customization - a labeled, dashed green line\n",
    "plt.bar(armada_df['Battle'], armada_df['Portuguese Ships'], color = colors)\n",
    "\n",
    "# Create colored rectangles for victory, draw, and defeat icons\n",
    "victory_patch = mpatches.Patch(color = 'darkgreen', label = 'Victory')\n",
    "draw_patch = mpatches.Patch(color = 'gray', label = 'Draw')\n",
    "defeat_patch = mpatches.Patch(color = 'darkred', label = 'Defeat')\n",
    "\n",
    "# Create a legend with the colored rectangles\n",
    "plt.legend(handles = [victory_patch, draw_patch, defeat_patch], loc = 'upper right', prop = {'size': 12})\n",
    "\n",
    "# Add a graph title, x-axis label, set x and y-axis tick mark intervals, and add the legend to the bottom right\n",
    "plt.title('Number of Portuguese ships in each battle', size = 20)\n",
    "plt.xlabel('Battle', size = 15)\n",
    "plt.xticks(rotation = 45, size = 12)\n",
    "plt.ylabel('# of Ships', size = 15)\n",
    "plt.yticks(size = 12)\n",
    "\n",
    "# Remove the right and top border (spines) and add a grid for better visualization\n",
    "plt.gca().spines['right'].set_visible(False)\n",
    "plt.gca().spines['top'].set_visible(False)"
   ]
  },
  {
   "cell_type": "markdown",
   "id": "c39cc7eb",
   "metadata": {},
   "source": [
    "#### 5. Return a data frame that contains the rows where the Portuguese outnumbered their opponent."
   ]
  },
  {
   "cell_type": "code",
   "execution_count": null,
   "id": "ef49bc2f",
   "metadata": {},
   "outputs": [],
   "source": [
    "# Select the applicable rows (Ratio > 1) by using the series indexing (.loc for the row value)\n",
    "armada_df.loc[armada_df['Ratio of Portuguese Ships to Dutch/British Ships'] > 1.000]"
   ]
  }
 ],
 "metadata": {
  "kernelspec": {
   "display_name": "Python 3 (ipykernel)",
   "language": "python",
   "name": "python3"
  },
  "language_info": {
   "codemirror_mode": {
    "name": "ipython",
    "version": 3
   },
   "file_extension": ".py",
   "mimetype": "text/x-python",
   "name": "python",
   "nbconvert_exporter": "python",
   "pygments_lexer": "ipython3",
   "version": "3.11.5"
  }
 },
 "nbformat": 4,
 "nbformat_minor": 5
}
